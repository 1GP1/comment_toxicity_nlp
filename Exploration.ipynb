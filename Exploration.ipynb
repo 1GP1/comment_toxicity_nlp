{
 "cells": [
  {
   "cell_type": "code",
   "execution_count": 1,
   "metadata": {},
   "outputs": [],
   "source": [
    "import pandas as pd\n",
    "import json\n",
    "import spacy "
   ]
  },
  {
   "cell_type": "code",
   "execution_count": 2,
   "metadata": {},
   "outputs": [],
   "source": [
    "with open('config.json',\"rb\") as f:\n",
    "    config=json.load(f)"
   ]
  },
  {
   "cell_type": "code",
   "execution_count": 3,
   "metadata": {},
   "outputs": [],
   "source": [
    "data=pd.read_csv(config[\"file_name\"])"
   ]
  },
  {
   "cell_type": "code",
   "execution_count": 4,
   "metadata": {},
   "outputs": [
    {
     "name": "stdout",
     "output_type": "stream",
     "text": [
      "Explanation\n",
      "Why the edits made under my username Hardcore Metallica Fan were reverted? They weren't vandalisms, just closure on some GAs after I voted at New York Dolls FAC. And please don't remove the template from the talk page since I'm retired now.89.205.38.27 \n",
      " \n",
      " \n",
      "\n",
      "D'aww! He matches this background colour I'm seemingly stuck with. Thanks.  (talk) 21:51, January 11, 2016 (UTC) \n",
      " \n",
      " \n",
      "\n",
      "Hey man, I'm really not trying to edit war. It's just that this guy is constantly removing relevant information and talking to me through edits instead of my talk page. He seems to care more about the formatting than the actual info. \n",
      " \n",
      " \n",
      "\n",
      "\"\n",
      "More\n",
      "I can't make any real suggestions on improvement - I wondered if the section statistics should be later on, or a subsection of \"\"types of accidents\"\"  -I think the references may need tidying so that they are all in the exact same format ie date format etc. I can do that later on, if no-one else does first - if you have any preferences for formatting style on references or want to do it yourself please let me know.\n",
      "\n",
      "There appears to be a backlog on articles for review so I guess there may be a delay until a reviewer turns up. It's listed in the relevant form eg Wikipedia:Good_article_nominations#Transport  \" \n",
      " \n",
      " \n",
      "\n",
      "You, sir, are my hero. Any chance you remember what page that's on? \n",
      " \n",
      " \n",
      "\n"
     ]
    }
   ],
   "source": [
    "for i in range(5):\n",
    "    print(data.iloc[i,1],\"\\n \\n \\n\")"
   ]
  },
  {
   "cell_type": "code",
   "execution_count": 5,
   "metadata": {},
   "outputs": [],
   "source": [
    "english=spacy.load(\"en_core_web_sm\")"
   ]
  },
  {
   "cell_type": "code",
   "execution_count": 11,
   "metadata": {},
   "outputs": [
    {
     "name": "stdout",
     "output_type": "stream",
     "text": [
      "lemmietization    :  tea \tStopword  : False\n",
      "lemmietization    :  be \tStopword  : True\n",
      "lemmietization    :  healthy \tStopword  : False\n",
      "lemmietization    :  and \tStopword  : True\n",
      "lemmietization    :  ! \tStopword  : False\n",
      "lemmietization    :  ! \tStopword  : False\n",
      "lemmietization    :  ! \tStopword  : False\n",
      "lemmietization    :  calm \tStopword  : False\n",
      "lemmietization    :  , \tStopword  : False\n",
      "lemmietization    :  do \tStopword  : True\n",
      "lemmietization    :  not \tStopword  : True\n",
      "lemmietization    :  -PRON- \tStopword  : True\n",
      "lemmietization    :  think \tStopword  : False\n",
      "lemmietization    :  ? \tStopword  : False\n"
     ]
    }
   ],
   "source": [
    "for i in english(\"Tea is healthy and !!!calming, don't you think?\"):\n",
    "    print(\"lemmietization    : \",i.lemma_,\"\\tStopword  :\",i.is_stop)"
   ]
  },
  {
   "cell_type": "code",
   "execution_count": null,
   "metadata": {},
   "outputs": [],
   "source": []
  }
 ],
 "metadata": {
  "interpreter": {
   "hash": "710d0640986d5f2ff7e428870566368adf138c6d086b68931504cb59cdc4268e"
  },
  "kernelspec": {
   "display_name": "Python 3.7.5 64-bit",
   "language": "python",
   "name": "python3"
  },
  "language_info": {
   "codemirror_mode": {
    "name": "ipython",
    "version": 3
   },
   "file_extension": ".py",
   "mimetype": "text/x-python",
   "name": "python",
   "nbconvert_exporter": "python",
   "pygments_lexer": "ipython3",
   "version": "3.7.5"
  },
  "orig_nbformat": 4
 },
 "nbformat": 4,
 "nbformat_minor": 2
}
